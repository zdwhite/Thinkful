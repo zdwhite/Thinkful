{
 "cells": [
  {
   "cell_type": "markdown",
   "metadata": {},
   "source": [
    "## Question 1\n",
    "\n",
    "Calculate the probability of flipping a balanced coin four times and getting each pattern: HTTH, HHHH and TTHH.\n",
    "\n",
    "#### Answer\n",
    "\n",
    "$ = .5 *.5 *.5 *.5$\n",
    "\n",
    "$ = 6.75\\%$ This is for the set of all patterns"
   ]
  },
  {
   "cell_type": "markdown",
   "metadata": {},
   "source": [
    "## Question 2\n",
    "If a list of people has 24 women and 21 men, then the probability of choosing a man from the list is 21/45. What is the probability of not choosing a man?\n",
    "\n",
    "### Answer\n",
    "$P(21|45) = 21/45, 46.\\bar{66}\\%$\n",
    "\n",
    "$P!(21|45)= 1 - P(21|45)$\n",
    "\n",
    "$P!(21|45)= 53.\\bar{33}\\%$"
   ]
  },
  {
   "cell_type": "markdown",
   "metadata": {},
   "source": [
    "## Question 3\n",
    "The probability that Bernice will travel by plane sometime in the next year is 10%. The probability of a plane crash at any time is .005%. What is the probability that Bernice will be in a plane crash sometime in the next year?\n",
    "\n",
    "### Answer\n",
    "\n",
    "$P(T|B) = 10\\%,$ Travel given Bernice\n",
    "\n",
    "$P(C|A) = .005\\%,$ Crash given Plane\n",
    "\n",
    "$P(C \\cap B) = P(T|B) * P(C|A),$ __.0005%__ Crash given Bernice\n"
   ]
  },
  {
   "cell_type": "markdown",
   "metadata": {},
   "source": [
    "## Question 4\n",
    "\n",
    "A data scientist wants to study the behavior of users on the company website. Each time a user clicks on a link on the website, there is a 5% chance that the user will be asked to complete a short survey about their behavior on the website. The data scientist uses the survey data to conclude that, on average, users spend 15 minutes surfing the company website before moving on to other things. What is wrong with this conclusion?\n",
    "\n",
    "### Answer\n",
    "\n",
    "\n",
    "First off, using a user survey is a poor method to determine usage time on a website, as this metric is subject to internal user bias, is neither precise or accurate, and relies on a response rate of the survey.  \n",
    "\n",
    "Secondly, it's a  measureable metric that can be collected on more than a small 5% sample. If implemented correctly the entire user population can be studied.\n",
    "\n",
    "If we assumed perfect response rate and eliminated user response bias the methodology is still flawed, as the way a user is selected to take a survey is biased. The more a user clicks on links the more likely they are to recieve a survey. A user with the highest likelyhood to recieve a survey (assuming all users are indeed human) is also one whom will have a higher surfing time.\n",
    "\n",
    "Simply, the sample population surveyed is skewed away from the true population."
   ]
  },
  {
   "cell_type": "code",
   "execution_count": null,
   "metadata": {},
   "outputs": [],
   "source": []
  }
 ],
 "metadata": {
  "kernelspec": {
   "display_name": "Python 3",
   "language": "python",
   "name": "python3"
  },
  "language_info": {
   "codemirror_mode": {
    "name": "ipython",
    "version": 3
   },
   "file_extension": ".py",
   "mimetype": "text/x-python",
   "name": "python",
   "nbconvert_exporter": "python",
   "pygments_lexer": "ipython3",
   "version": "3.6.5"
  }
 },
 "nbformat": 4,
 "nbformat_minor": 2
}
