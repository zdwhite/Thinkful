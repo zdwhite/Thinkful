{
 "cells": [
  {
   "cell_type": "markdown",
   "metadata": {},
   "source": [
    "## Problem\n",
    "\n",
    "A diagnostic test has a __98% probability of giving a positive__ result when applied to a person suffering from __Thripshaw's Disease__, and __10% probability of giving a (false) positive__ when applied to a non-sufferer. It is estimated that __0.5 % of the population are sufferers__. Suppose that the test is now administered to a person whose disease status is unknown. \n",
    "\n",
    "   $P(Pos|Disease) = .98$\n",
    "   \n",
    "   $P(Pos|No Disease) = .10$\n",
    "   \n",
    "   $P(Disease) = .005$\n",
    "   \n",
    "   $P(No Disease) = .995$\n",
    "   \n",
    "\n",
    "### 1. What is the probability that the test will be positive?\n",
    "    \n",
    "        \n",
    "        Consider 1,000,000 Population.\n",
    "        \n",
    "        Population with the disease \n",
    "            = 1,000,000 * .005\n",
    "            = 5000\n",
    "        Number of infected population given a correct result\n",
    "            = 5000 *.98\n",
    "            = 4900\n",
    "        Number of infected population  given an incorrect result\n",
    "            = 100\n",
    "        Population with out the disease\n",
    "            = 999,995,000\n",
    "        Number of non-infected population given an incorectl result\n",
    "            = 999,995,000 * .1\n",
    "            = 99500\n",
    "        Total Population testing positive for the disease regardless of correctness\n",
    "            = 99500 + 4900\n",
    "            = 104400\n",
    "        Probabilty that a Test will be Positive regardless of being correct\n",
    "            = 104400/1000000\n",
    "            = 10.44%\n",
    "            \n",
    "### 2. What is the probability that the test will correctly diagnose a sufferer.\n",
    "    \n",
    "        = .98 (questions with the answer in the problem statement are often confusing)\n",
    "        \n",
    "### 3. What is the probability that the test will correctly identify a non sufferer.\n",
    "    \n",
    "        = 1-.10\n",
    "        =.90\n",
    "        \n",
    "### 4. What is the probability that the test will Misclassify the patient?\n",
    "        Population not infected with an incorrect result\n",
    "        =99,500\n",
    "        Population infected with an incorrect result\n",
    "        =100\n",
    "        Probability that the test will give an incorrect result\n",
    "        = (99500 + 100)/1000000\n",
    "        =.0996\n",
    "    \n",
    "        \n",
    "        \n",
    "        \n",
    "        \n",
    "        \n",
    "        \n",
    "\n"
   ]
  },
  {
   "cell_type": "code",
   "execution_count": null,
   "metadata": {},
   "outputs": [],
   "source": []
  },
  {
   "cell_type": "code",
   "execution_count": null,
   "metadata": {},
   "outputs": [],
   "source": []
  }
 ],
 "metadata": {
  "kernelspec": {
   "display_name": "Python 3",
   "language": "python",
   "name": "python3"
  },
  "language_info": {
   "codemirror_mode": {
    "name": "ipython",
    "version": 3
   },
   "file_extension": ".py",
   "mimetype": "text/x-python",
   "name": "python",
   "nbconvert_exporter": "python",
   "pygments_lexer": "ipython3",
   "version": "3.6.5"
  }
 },
 "nbformat": 4,
 "nbformat_minor": 2
}
