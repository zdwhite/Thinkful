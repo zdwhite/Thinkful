{
 "cells": [
  {
   "cell_type": "code",
   "execution_count": 50,
   "metadata": {},
   "outputs": [],
   "source": [
    "import numpy as np\n",
    "import pandas as pd\n",
    "from scipy import stats\n",
    "import matplotlib.pyplot as plt\n",
    "%matplotlib inline\n",
    "\n",
    "Pop1 = np.random.binomial(10,.5, 10000)\n",
    "Pop2 = np.random.binomial(10,.2, 10000)"
   ]
  },
  {
   "cell_type": "markdown",
   "metadata": {},
   "source": [
    "### Question 1\n",
    " Reproduce the pop1 and pop2 populations and samples, using numpy's binomial function. \n",
    "     1. Specifically, create two binomially distributed populations with n equal to 10 and size equal to 10000. \n",
    "     2. The p-value of pop1 should be 0.2 and the p-value of pop2 should be 0.5. \n",
    "     3. Using a sample size of 100, calculate the means and standard deviations of your samples.\n"
   ]
  },
  {
   "cell_type": "code",
   "execution_count": 47,
   "metadata": {},
   "outputs": [
    {
     "data": {
      "image/png": "[encoded data removed]",
      "text/plain": [
       "<Figure size 432x288 with 1 Axes>"
      ]
     },
     "metadata": {},
     "output_type": "display_data"
    },
    {
     "name": "stdout",
     "output_type": "stream",
     "text": [
      "Sample1 4.87 1.6410667262485092\n",
      "Sample2 1.76 1.2737346662472526\n"
     ]
    }
   ],
   "source": [
    "\n",
    "\n",
    "sample1 = (np.random.choice(Pop1, 100, replace=True))\n",
    "sample2 = (np.random.choice(Pop2, 100, replace=True))\n",
    "\n",
    "\n",
    "#Plot a histogram.\n",
    "plt.hist(Pop1, alpha=0.5, label='Population 1') \n",
    "plt.hist(Pop2, alpha=0.5, label='Population 2') \n",
    "plt.legend(loc='upper right') \n",
    "plt.show()\n",
    "\n",
    "print(\"Sample1\",sample1.mean(),sample1.std())\n",
    "print(\"Sample2\",sample2.mean(),sample2.std())\n",
    "\n"
   ]
  },
  {
   "cell_type": "markdown",
   "metadata": {},
   "source": [
    "### Question 2\n",
    "For each of the following tasks, first write what you expect will happen, then code the changes and observe what does happen. Discuss the results with your mentor.\n",
    "\n",
    "    1. Increase the size of your samples from 100 to 1000, then calculate the means and standard deviations for your new samples and create histograms for each. Repeat this again, decreasing the size of your samples to 20. What values change, and what remain the same?\n",
    "\n",
    "    2. Change the probability value (p in the NumPy documentation) for pop1 to 0.3, then take new samples and compute the t-statistic and p-value. Then change the probability value p for group 1 to 0.4, and do it again. What changes, and why?\n",
    "\n",
    "    3. Change the distribution of your populations from binomial to a distribution of your choice. Do the sample mean values still accurately represent the population values?\n"
   ]
  },
  {
   "cell_type": "code",
   "execution_count": 48,
   "metadata": {},
   "outputs": [
    {
     "name": "stdout",
     "output_type": "stream",
     "text": [
      " Increasing the sample size should be reflected in that the mean and Std of the sample should shift towards the population mean and std \n"
     ]
    },
    {
     "data": {
      "image/png": "[encoded data removed]",
      "text/plain": [
       "<Figure size 432x288 with 1 Axes>"
      ]
     },
     "metadata": {},
     "output_type": "display_data"
    },
    {
     "name": "stdout",
     "output_type": "stream",
     "text": [
      "Sample1 5.038 1.5519523188551894\n",
      "Sample2 2.06 1.2395160345876934\n",
      "Decreasing the sample size should be reflected in that the mean and Std of the sample should shift away from the population mean and std \n"
     ]
    },
    {
     "data": {
      "image/png": "[encoded data removed]",
      "text/plain": [
       "<Figure size 432x288 with 1 Axes>"
      ]
     },
     "metadata": {},
     "output_type": "display_data"
    },
    {
     "name": "stdout",
     "output_type": "stream",
     "text": [
      "Sample1 5.15 1.107925990308017\n",
      "Sample2 1.85 1.1079259903080168\n"
     ]
    }
   ],
   "source": [
    "## Question 2.1\n",
    "\n",
    "print(\" Increasing the sample size should be reflected in that the mean and Std of the sample should shift towards the population mean and std \")\n",
    "\n",
    "\n",
    "sample1 = (np.random.choice(Pop1, 1000, replace=True))\n",
    "sample2 = (np.random.choice(Pop2, 1000, replace=True))\n",
    "\n",
    "\n",
    "#Plot a histogram.\n",
    "plt.hist(Pop1, alpha=0.5, label='Population 1') \n",
    "plt.hist(Pop2, alpha=0.5, label='Population 2') \n",
    "plt.legend(loc='upper right') \n",
    "plt.show()\n",
    "\n",
    "print(\"Sample1\",sample1.mean(),sample1.std())\n",
    "print(\"Sample2\",sample2.mean(),sample2.std())\n",
    "\n",
    "print(\"Decreasing the sample size should be reflected in that the mean and Std of the sample should shift away from the population mean and std \")\n",
    "\n",
    "sample1 = (np.random.choice(Pop1, 20, replace=True))\n",
    "sample2 = (np.random.choice(Pop2, 20, replace=True))\n",
    "\n",
    "\n",
    "#Plot a histogram.\n",
    "plt.hist(Pop1, alpha=0.5, label='Population 1') \n",
    "plt.hist(Pop2, alpha=0.5, label='Population 2') \n",
    "plt.legend(loc='upper right') \n",
    "plt.show()\n",
    "\n",
    "print(\"Sample1\",sample1.mean(),sample1.std())\n",
    "print(\"Sample2\",sample2.mean(),sample2.std())\n"
   ]
  },
  {
   "cell_type": "code",
   "execution_count": 83,
   "metadata": {},
   "outputs": [
    {
     "name": "stdout",
     "output_type": "stream",
     "text": [
      "Ttest_indResult(statistic=16.053766209217027, pvalue=1.3309482769598534e-54)\n",
      "Ttest_indResult(statistic=30.231808688456898, pvalue=1.0213207011847774e-164)\n",
      "\n",
      "After changing p from .3 to .4 the t-statistic increases in value, which means that the variance in the second scenario between the two sample populations is higher. However, our p-value decreased from scenario 1 to scenario 2 increasing our confidence that the difference between these two samples reflect the difference in their populations. It should be noted that the P-values are very low to begin with\n"
     ]
    }
   ],
   "source": [
    "#Question 2.2\n",
    "\n",
    "Pop1 = np.random.binomial(10,.3, 10000)\n",
    "Pop2 = np.random.binomial(10,.2, 10000)\n",
    "\n",
    "\n",
    "sample1 = (np.random.choice(Pop1, 1000, replace=True))\n",
    "sample2 = (np.random.choice(Pop2, 1000, replace=True))\n",
    "\n",
    "print(stats.ttest_ind(sample1, sample2, equal_var=False))\n",
    "\n",
    "Pop1 = np.random.binomial(10,.4, 10000)\n",
    "Pop2 = np.random.binomial(10,.2, 10000)\n",
    "\n",
    "sample1 = (np.random.choice(Pop1, 1000, replace=True))\n",
    "sample2 = (np.random.choice(Pop2, 1000, replace=True))\n",
    "print(stats.ttest_ind(sample1, sample2, equal_var=False))\n",
    "\n",
    "print(\"\")\n",
    "print(\"After changing p from .3 to .4 the t-statistic increases in value, which means that the variance in the second scenario between the two sample populations is higher.\",\n",
    "      \"However, our p-value decreased from scenario 1 to scenario 2 increasing our confidence that the difference between these two samples\",\n",
    "     \"reflect the difference in their populations. It should be noted that the P-values are very low to begin with\")"
   ]
  },
  {
   "cell_type": "code",
   "execution_count": 87,
   "metadata": {},
   "outputs": [
    {
     "data": {
      "image/png": "[encoded data removed]",
      "text/plain": [
       "<Figure size 432x288 with 1 Axes>"
      ]
     },
     "metadata": {},
     "output_type": "display_data"
    },
    {
     "name": "stdout",
     "output_type": "stream",
     "text": [
      "Ttest_indResult(statistic=-2.5552036421718594, pvalue=0.010710573736270353)\n",
      "Ttest_indResult(statistic=13.80217104187647, pvalue=2.8826343010041635e-41)\n",
      "\n",
      "Finally two a gamma and a poisson distributed population were compared against one another. Their populations are graphed below. Random samples from, both populations were taken and compared against one another. Only in the second scenario can we conclue that the difference in the samples are reflective of their populations.\n"
     ]
    }
   ],
   "source": [
    "#Question 2.3\n",
    "\n",
    "Pop1 = np.random.gamma(10,.3, 10000)\n",
    "Pop2 = np.random.poisson(3, 10000)\n",
    "\n",
    "#Plot a histogram.\n",
    "plt.hist(Pop1, alpha=0.5, label='Population 1') \n",
    "plt.hist(Pop2, alpha=0.5, label='Population 2') \n",
    "plt.legend(loc='upper right') \n",
    "plt.show()\n",
    "\n",
    "sample1 = (np.random.choice(Pop1, 1000, replace=True))\n",
    "sample2 = (np.random.choice(Pop2, 1000, replace=True))\n",
    "\n",
    "print(stats.ttest_ind(sample1, sample2, equal_var=False))\n",
    "\n",
    "Pop1 = np.random.gamma(10,.4, 10000)\n",
    "Pop2 = np.random.poisson(3, 10000)\n",
    "\n",
    "sample1 = (np.random.choice(Pop1, 1000, replace=True))\n",
    "sample2 = (np.random.choice(Pop2, 1000, replace=True))\n",
    "print(stats.ttest_ind(sample1, sample2, equal_var=False))\n",
    "\n",
    "print(\"\")\n",
    "print(\"Finally two a gamma and a poisson distributed population were compared against one another. Their populations are graphed below.\",\n",
    "    \"Random samples from, both populations were taken and compared against one another. Only in the second scenario can we conclue\",\n",
    "     \"that the difference in the samples are reflective of their populations.\")"
   ]
  },
  {
   "cell_type": "code",
   "execution_count": null,
   "metadata": {},
   "outputs": [],
   "source": []
  }
 ],
 "metadata": {
  "kernelspec": {
   "display_name": "Python 3",
   "language": "python",
   "name": "python3"
  },
  "language_info": {
   "codemirror_mode": {
    "name": "ipython",
    "version": 3
   },
   "file_extension": ".py",
   "mimetype": "text/x-python",
   "name": "python",
   "nbconvert_exporter": "python",
   "pygments_lexer": "ipython3",
   "version": "3.6.6"
  }
 },
 "nbformat": 4,
 "nbformat_minor": 2
}
