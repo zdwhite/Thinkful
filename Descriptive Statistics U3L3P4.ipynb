{
 "cells": [
  {
   "cell_type": "code",
   "execution_count": 1,
   "metadata": {},
   "outputs": [],
   "source": [
    "import numpy as np\n",
    "import pandas as pd\n",
    "import matplotlib.pyplot as plt\n",
    "%matplotlib inline"
   ]
  },
  {
   "cell_type": "markdown",
   "metadata": {},
   "source": [
    "### Question 1\n",
    "    1.Generate a random variable with 100 datapoints using the code distributionvar = np.random.distributionname([arguments], 100), replacing distributionvar with an appropriate variable name and distributionname with the name of the distribution you’ve chosen, and filling in the empty space in the parentheses with your chosen values for the appropriate parameters.\n",
    "\n",
    "    2.Graph the variable using a histogram.\n",
    "    3.Compute the mean and standard deviation and plot them as vertical lines on the histogram.\n",
    "    4.Evaluate whether the descriptive statistics provided useful information about the variable. Can you identify any common characteristics of the distributions that could be usefully described using the mean and/or standard deviation,  versus the ones that could not?"
   ]
  },
  {
   "cell_type": "code",
   "execution_count": 116,
   "metadata": {},
   "outputs": [
    {
     "data": {
      "image/png": "[encoded data removed]",
      "text/plain": [
       "<Figure size 432x288 with 1 Axes>"
      ]
     },
     "metadata": {},
     "output_type": "display_data"
    },
    {
     "name": "stdout",
     "output_type": "stream",
     "text": [
      "The overal distribution changes with each random seed, and the descriptive statistics in many cases not reveal anything\n"
     ]
    }
   ],
   "source": [
    "# Generate a Poisson distribution with lambda =3.\n",
    "#PopulationA = np.random.normal(50,25, 100)\n",
    "PopulationB = np.random.poisson(3,100)\n",
    "\n",
    "#Plot a histogram.\n",
    "plt.hist(PopulationB)\n",
    "\n",
    "\n",
    "# Add a vertical line at the mean.\n",
    "plt.axvline(PopulationB.mean(), color='b', linestyle='solid', linewidth=2)\n",
    "\n",
    "# Add a vertical line at one standard deviation above the mean.\n",
    "plt.axvline(PopulationB.mean() + PopulationB.std(), color='b', linestyle='dashed', linewidth=2)\n",
    "\n",
    "# Add a vertical line at one standard deviation below the mean.\n",
    "plt.axvline(PopulationB.mean()-PopulationB.std(), color='b', linestyle='dashed', linewidth=2) \n",
    "\n",
    "# Print the histogram\n",
    "\n",
    "plt.show()\n",
    "\n",
    "print(\"The overal distribution changes with each random seed, and the descriptive statistics in many cases not reveal anything\")"
   ]
  },
  {
   "cell_type": "markdown",
   "metadata": {},
   "source": [
    "### Question 2\n",
    "    1. Generate two normally-distributed variables, one with a mean of 5 and standard deviation of 0.5, and the other with a mean of 10 and standard deviation of 1.\n",
    "    2. Add them together to create a third variable.\n",
    "    3. Graph the third variable using a histogram.\n",
    "    4. Compute the mean and standard deviation and plot them as vertical lines on the histogram.\n",
    "    5. Evaluate the descriptive statistics against the data."
   ]
  },
  {
   "cell_type": "code",
   "execution_count": 139,
   "metadata": {},
   "outputs": [
    {
     "data": {
      "image/png": "[encoded data removed]",
      "text/plain": [
       "<Figure size 432x288 with 1 Axes>"
      ]
     },
     "metadata": {},
     "output_type": "display_data"
    },
    {
     "name": "stdout",
     "output_type": "stream",
     "text": [
      "The overal distribution changes with each random seed, and the descriptive statistics in many cases not reveal anything\n",
      "                0\n",
      "count  100.000000\n",
      "mean    15.142955\n",
      "std      1.171975\n",
      "min     12.315414\n",
      "25%     14.241713\n",
      "50%     15.081717\n",
      "75%     15.963038\n",
      "max     18.511521\n"
     ]
    }
   ],
   "source": [
    "PopA = np.random.normal(5,.5, 100)\n",
    "PopB = np.random.normal(10,1, 100)\n",
    "PopC = PopA + PopB\n",
    "#Plot a histogram.\n",
    "plt.hist(PopC)\n",
    "\n",
    "\n",
    "# Add a vertical line at the mean.\n",
    "plt.axvline(PopC.mean(), color='b', linestyle='solid', linewidth=2)\n",
    "\n",
    "# Add a vertical line at one standard deviation above the mean.\n",
    "plt.axvline(PopC.mean() + PopC.std(), color='b', linestyle='dashed', linewidth=2)\n",
    "\n",
    "# Add a vertical line at one standard deviation below the mean.\n",
    "plt.axvline(PopC.mean()-PopC.std(), color='b', linestyle='dashed', linewidth=2)\n",
    "\n",
    "# Print the histogram\n",
    "plt.show()\n",
    "print(\"The overal distribution changes with each random seed, and the descriptive statistics in many cases not reveal anything\")\n",
    "PopC=pd.DataFrame(PopC)\n",
    "print(PopC.describe())"
   ]
  },
  {
   "cell_type": "markdown",
   "metadata": {},
   "source": []
  }
 ],
 "metadata": {
  "kernelspec": {
   "display_name": "Python 3",
   "language": "python",
   "name": "python3"
  },
  "language_info": {
   "codemirror_mode": {
    "name": "ipython",
    "version": 3
   },
   "file_extension": ".py",
   "mimetype": "text/x-python",
   "name": "python",
   "nbconvert_exporter": "python",
   "pygments_lexer": "ipython3",
   "version": "3.6.6"
  }
 },
 "nbformat": 4,
 "nbformat_minor": 2
}
