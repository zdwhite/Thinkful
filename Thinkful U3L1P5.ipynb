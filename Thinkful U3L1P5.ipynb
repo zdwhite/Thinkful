{
 "cells": [
  {
   "cell_type": "code",
   "execution_count": 78,
   "metadata": {},
   "outputs": [],
   "source": [
    "import pandas as pd\n",
    "import matplotlib.pyplot as plt\n",
    "import numpy as np\n",
    "import statistics as stat"
   ]
  },
  {
   "cell_type": "markdown",
   "metadata": {},
   "source": [
    "## Question 1\n",
    "\n",
    "Greg was 14, Marcia was 12, Peter was 11, Jan was 10, Bobby was 8, and Cindy was 6 when they started playing the Brady kids on The Brady Bunch. Cousin Oliver was 8 years old when he joined the show. \n",
    "\n",
    "What are the **mean**, **median**, and **mode** of the kids' ages when they first appeared on the show? What are the **variance**, **standard deviation**, and **standard error**?\n",
    "\n",
    "### Mean\n",
    "  \n",
    "  $\\bar{x}=\\frac{\\displaystyle\\sum_{i=1}^{n}x_i}{n}$\n",
    "  \n",
    "  $=(14+12+11+10+8+6+8)/7$\n",
    "    \n",
    "  $=\\textbf{9.86}$\n",
    "\n",
    "### Median  \n",
    "  \n",
    "  $=(14 , 12 , 11 , \\textbf{10} , 8 , 8 ,6)$\n",
    "    \n",
    "  $=\\textbf{10}$\n",
    "\n",
    "### Mode\n",
    "  \n",
    "  $=(14 , 12 , 11 , 10 , \\textbf{8 , 8} ,6)$\n",
    "    \n",
    "  $=\\textbf{8}$\n",
    "    \n",
    "### Variance (sample)\n",
    "\n",
    "$\\sigma^2 = \\frac{\\displaystyle\\sum_{i=1}^{n}(x_i - \\mu)^2} {n-1}$\n",
    "  \n",
    "  $=(14-9.86)^2/(6)+(12-9.86)^2/(6)+(11-9.86)^2/(6)+(10-9.86)^2/(6)+(8-9.86)^2/(6)+(8-9.86)^2/(6)+(6-9.86)^2/(6)$\n",
    "    \n",
    "  $=\\textbf{7.48}$\n",
    "\n",
    "### Standard Deviation\n",
    "   $ \\sigma= \\sqrt{\\sigma^2}$\n",
    "   \n",
    "   $=\\textbf{2.73}$\n",
    "\n",
    "### Standard Error\n",
    "   $ \\sigma_{\\bar{x}} = \\displaystyle\\frac{\\sigma}{\\sqrt{n}} $\n",
    "   \n",
    "   $=\\textbf{1.03}$\n",
    " \n",
    " "
   ]
  },
  {
   "cell_type": "code",
   "execution_count": 76,
   "metadata": {},
   "outputs": [
    {
     "name": "stdout",
     "output_type": "stream",
     "text": [
      "   Age   Names\n",
      "0   14    Greg\n",
      "1   12  Marcia\n",
      "2   11   Peter\n",
      "3   10     Jan\n",
      "4    8   Bobby\n",
      "5    6   Cindy\n",
      "6    8  Oliver \n",
      "\n",
      "             Age\n",
      "count   7.000000\n",
      "mean    9.857143\n",
      "std     2.734262\n",
      "min     6.000000\n",
      "25%     8.000000\n",
      "50%    10.000000\n",
      "75%    11.500000\n",
      "max    14.000000 \n",
      "\n",
      "\u001b[1m[Median]-\u001b[0m 10.0\n",
      "\u001b[1m[Mode]-\u001b[0m 8\n",
      "\u001b[1m[Variance]-\u001b[0m 6.408163265306122\n",
      "\u001b[1m[Standard Deviation]-\u001b[0m 2.531435020952764\n",
      "\u001b[1m[Standard Error]-\u001b[0m 1.0334540197243192\n"
     ]
    }
   ],
   "source": [
    "Names = ['Greg', 'Marcia', 'Peter', 'Jan', 'Bobby', 'Cindy','Oliver']\n",
    "Age = [14,12,11,10,8,6,8]\n",
    "\n",
    "df=pd.DataFrame()\n",
    "df['Age'] = Age\n",
    "df['Names'] = Names\n",
    "print(df,\"\\n\")\n",
    "\n",
    "print(df.describe(),\"\\n\")\n",
    "print('\\033[1m'+\"[Median]-\"+'\\033[0m',np.median(df['Age']))\n",
    "print('\\033[1m'+\"[Mode]-\"+'\\033[0m',stat.mode(df['Age']))\n",
    "print('\\033[1m'+\"[Variance]-\"+'\\033[0m',np.var(df['Age']))\n",
    "print('\\033[1m'+\"[Standard Deviation]-\"+'\\033[0m',np.std(df['Age']))\n",
    "print('\\033[1m'+\"[Standard Error]-\"+'\\033[0m',np.std(df['Age'] ,ddof=1) / np.sqrt(len(df['Age']))\n",
    ")"
   ]
  },
  {
   "cell_type": "markdown",
   "metadata": {},
   "source": [
    "### Question 2\n",
    "\n",
    "Using these estimates, if you had to choose only one estimate of central tendency and one estimate of variance to describe the data, which would you pick and why?\n",
    "\n",
    "##### Answer\n",
    "No single measure of central tendency is enough to evaluate a data set. Using just the mean has problems in that a data set can have high variance in which the mean describes next to nothing. Using just the median has similar issues with less accuracy. Using just the mode is perhaps the least informing measure, in that you can have sets that are multi-modal or have no mode.\n",
    "\n",
    "In terms of one measure of variance, standard deviation is perhaps the most useful. It is the most intuive to understand because it gives a good sense of how \"spread\" or \"centered\" a data set is.\n"
   ]
  },
  {
   "cell_type": "markdown",
   "metadata": {},
   "source": [
    "### Question 3\n",
    "\n",
    "Next, Cindy has a birthday. Update your estimates- what changed, and what didn't?\n",
    "\n",
    "##### Answer\n",
    "Changed : Mean, Variance std, sterror  These changes are fairly minimal.\n",
    "\n",
    "Unchanged : Median and Mode"
   ]
  },
  {
   "cell_type": "code",
   "execution_count": 77,
   "metadata": {},
   "outputs": [
    {
     "name": "stdout",
     "output_type": "stream",
     "text": [
      "   Age   Names\n",
      "0   14    Greg\n",
      "1   12  Marcia\n",
      "2   11   Peter\n",
      "3   10     Jan\n",
      "4    8   Bobby\n",
      "5    7   Cindy\n",
      "6    8  Oliver \n",
      "\n",
      "             Age\n",
      "count   7.000000\n",
      "mean   10.000000\n",
      "std     2.516611\n",
      "min     7.000000\n",
      "25%     8.000000\n",
      "50%    10.000000\n",
      "75%    11.500000\n",
      "max    14.000000 \n",
      "\n",
      "\u001b[1m[Median]-\u001b[0m 10.0\n",
      "\u001b[1m[Mode]-\u001b[0m 8\n",
      "\u001b[1m[Variance]-\u001b[0m 5.428571428571429\n",
      "\u001b[1m[Standard Deviation]-\u001b[0m 2.32992949004287\n",
      "\u001b[1m[Standard Error]-\u001b[0m 0.9511897312113418\n"
     ]
    }
   ],
   "source": [
    "Names = ['Greg', 'Marcia', 'Peter', 'Jan', 'Bobby', 'Cindy','Oliver']\n",
    "Age = [14,12,11,10,8,7,8]\n",
    "\n",
    "df=pd.DataFrame()\n",
    "df['Age'] = Age\n",
    "df['Names'] = Names\n",
    "print(df,\"\\n\")\n",
    "\n",
    "print(df.describe(),\"\\n\")\n",
    "print('\\033[1m'+\"[Median]-\"+'\\033[0m',np.median(df['Age']))\n",
    "print('\\033[1m'+\"[Mode]-\"+'\\033[0m',stat.mode(df['Age']))\n",
    "print('\\033[1m'+\"[Variance]-\"+'\\033[0m',np.var(df['Age']))\n",
    "print('\\033[1m'+\"[Standard Deviation]-\"+'\\033[0m',np.std(df['Age']))\n",
    "print('\\033[1m'+\"[Standard Error]-\"+'\\033[0m',np.std(df['Age'] ,ddof=1) / np.sqrt(len(df['Age']))\n",
    ")"
   ]
  },
  {
   "cell_type": "markdown",
   "metadata": {},
   "source": [
    "### Question 4\n",
    "Nobody likes Cousin Oliver. Maybe the network should have used an even younger actor. Replace Cousin Oliver with 1-year-old Jessica, then recalculate again. Does this change your choice of central tendency or variance estimation methods?\n",
    "\n",
    "##### Answer\n",
    "With respect to central tendency, no it does not.\n",
    "\n",
    "With respect to variance tendency, no it does not.\n"
   ]
  },
  {
   "cell_type": "code",
   "execution_count": 73,
   "metadata": {},
   "outputs": [
    {
     "name": "stdout",
     "output_type": "stream",
     "text": [
      "   Age    Names\n",
      "0   14     Greg\n",
      "1   12   Marcia\n",
      "2   11    Peter\n",
      "3   10      Jan\n",
      "4    8    Bobby\n",
      "5    7    Cindy\n",
      "6    1  Jessica \n",
      "\n",
      "             Age\n",
      "count   7.000000\n",
      "mean    9.000000\n",
      "std     4.242641\n",
      "min     1.000000\n",
      "25%     7.500000\n",
      "50%    10.000000\n",
      "75%    11.500000\n",
      "max    14.000000 \n",
      "\n",
      "\u001b[1m[Median]-\u001b[0m 10.0\n",
      "\u001b[1m[Mode]-\u001b[0m No Mode\n",
      "\u001b[1m[Variance]-\u001b[0m 18\n",
      "\u001b[1m[Standard Deviation]-\u001b[0m 4.242640687119285\n",
      "\u001b[1m[Standard Error]-\u001b[0m 1.6035674514745462\n"
     ]
    }
   ],
   "source": [
    "Names = ['Greg', 'Marcia', 'Peter', 'Jan', 'Bobby', 'Cindy','Jessica']\n",
    "Age = [14,12,11,10,8,7,1]\n",
    "\n",
    "df=pd.DataFrame()\n",
    "df['Age'] = Age\n",
    "df['Names'] = Names\n",
    "print(df,\"\\n\")\n",
    "\n",
    "print(df.describe(),\"\\n\")\n",
    "print('\\033[1m'+\"[Median]-\"+'\\033[0m',np.median(df['Age']))\n",
    "print('\\033[1m'+\"[Mode]-\"+'\\033[0m',\"No Mode\")\n",
    "print('\\033[1m'+\"[Variance]-\"+'\\033[0m',stat.variance(df['Age']))\n",
    "print('\\033[1m'+\"[Standard Deviation]-\"+'\\033[0m',stat.stdev(df['Age']))\n",
    "print('\\033[1m'+\"[Standard Error]-\"+'\\033[0m',np.std(df['Age'] ,ddof=1) / np.sqrt(len(df['Age']))\n",
    ")"
   ]
  },
  {
   "cell_type": "markdown",
   "metadata": {},
   "source": [
    "### Question 5\n",
    "On the 50th anniversary of The Brady Bunch, four diffe\n",
    "rent magazines asked their readers whether they were fans of the show. The answers were: TV Guide 20% fans Entertainment Weekly 23% fans Pop Culture Today 17% fans SciPhi Phanatic 5% fans\n",
    "\n",
    "\n",
    "Based on these numbers, what percentage of adult Americans would you estimate were Brady Bunch fans on the 50th anniversary of the show?\n",
    "\n",
    "##### Answer\n",
    "  ~$~16.3\\%,(20\\% + 23\\% +17\\% +5\\%)/4$ is the representative mean, However\n",
    "\n",
    "From these numbers there is no way to tell what percentage of adult Americans were fans of the show.\n",
    "\n",
    "Why can't we tell? We need other relevant information in order to answer that specific question. Specifically we need to understant the relationship of survey sample population as representative to the population of adult Americans.\n",
    "\n",
    "With the assumption that the survey response is representative of the magazine readership, the only conclusion we can draw from the data presented is that relative to other responders SciPhi Phanatic readers are far less likely to be fans of the Brady Bunch "
   ]
  },
  {
   "cell_type": "code",
   "execution_count": null,
   "metadata": {},
   "outputs": [],
   "source": []
  }
 ],
 "metadata": {
  "kernelspec": {
   "display_name": "Python 3",
   "language": "python",
   "name": "python3"
  },
  "language_info": {
   "codemirror_mode": {
    "name": "ipython",
    "version": 3
   },
   "file_extension": ".py",
   "mimetype": "text/x-python",
   "name": "python",
   "nbconvert_exporter": "python",
   "pygments_lexer": "ipython3",
   "version": "3.6.5"
  }
 },
 "nbformat": 4,
 "nbformat_minor": 2
}
