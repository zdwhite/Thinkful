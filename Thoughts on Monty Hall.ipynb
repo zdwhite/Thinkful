{
 "cells": [
  {
   "attachments": {},
   "cell_type": "markdown",
   "metadata": {},
   "source": [
    "Monty Hall: \n",
    "![alt text](https://i.imgur.com/9whP686.jpg \"Logo Title Text 1\")\n"
   ]
  },
  {
   "cell_type": "markdown",
   "metadata": {},
   "source": [
    "Simplifications:\n",
    "    1. The solution for 1 door is the same for the set of all doors\n",
    "    2. The outcomes associated with choosing the prize door initially are symmetric and can be grouped as the same outcome.\n",
    "    3. The outcomes associated with choosing the non-prize door initially are the same and can be grouped as the same outcome.\n",
    "\n",
    "\n",
    "What does this mean?\n",
    "    Essentially all that matters is your initial choice and your chosen strategy.\n",
    "\n",
    "Consider a strategy where you never switch, you have a 1 in 3 chance of choosing the correct door. Conversely, you have a 2 in 3 chance of choosing the incorrect door, this strategy turns the act of showing you future information irrelevant.\n",
    "\n",
    "Consider a strategy where you always switch, you have the same 1 in 3 of picking the door with the prize, however, if you always switch you will always lose. This means that you have a 1 in 3 chance of losing. However, you have a 2 in 3 chance of picking a door without a prize behind it initially and if you always switch, you will always switch to the winning door."
   ]
  },
  {
   "cell_type": "code",
   "execution_count": null,
   "metadata": {},
   "outputs": [],
   "source": []
  }
 ],
 "metadata": {
  "kernelspec": {
   "display_name": "Python 3",
   "language": "python",
   "name": "python3"
  },
  "language_info": {
   "codemirror_mode": {
    "name": "ipython",
    "version": 3
   },
   "file_extension": ".py",
   "mimetype": "text/x-python",
   "name": "python",
   "nbconvert_exporter": "python",
   "pygments_lexer": "ipython3",
   "version": "3.6.5"
  }
 },
 "nbformat": 4,
 "nbformat_minor": 2
}
